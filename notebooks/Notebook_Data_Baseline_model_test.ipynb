{
 "cells": [
  {
   "cell_type": "markdown",
   "metadata": {},
   "source": [
    "<h1>Watching from above"
   ]
  },
  {
   "cell_type": "markdown",
   "metadata": {},
   "source": [
    "## Team composition:\n",
    "* **Fabrice**\n",
    "* **Ludovica**\n",
    "* **Luis**\n",
    "* **Pablo**\n",
    "* **Rui**"
   ]
  },
  {
   "cell_type": "markdown",
   "metadata": {},
   "source": [
    "# Notebook preparation "
   ]
  },
  {
   "cell_type": "markdown",
   "metadata": {},
   "source": [
    "## Packages\n",
    "--> Install the necessary packages in the new environment"
   ]
  },
  {
   "cell_type": "markdown",
   "metadata": {},
   "source": [
    "* pip install tensorflow\n",
    "* pip install tdqm"
   ]
  },
  {
   "cell_type": "markdown",
   "metadata": {},
   "source": [
    "## librairies import"
   ]
  },
  {
   "cell_type": "code",
   "execution_count": 6,
   "metadata": {},
   "outputs": [
    {
     "name": "stderr",
     "output_type": "stream",
     "text": [
      "2022-12-07 12:05:36.878476: I tensorflow/core/platform/cpu_feature_guard.cc:193] This TensorFlow binary is optimized with oneAPI Deep Neural Network Library (oneDNN) to use the following CPU instructions in performance-critical operations:  AVX2 FMA\n",
      "To enable them in other operations, rebuild TensorFlow with the appropriate compiler flags.\n",
      "2022-12-07 12:05:41.425735: W tensorflow/stream_executor/platform/default/dso_loader.cc:64] Could not load dynamic library 'libcudart.so.11.0'; dlerror: libcudart.so.11.0: cannot open shared object file: No such file or directory\n",
      "2022-12-07 12:05:41.425849: I tensorflow/stream_executor/cuda/cudart_stub.cc:29] Ignore above cudart dlerror if you do not have a GPU set up on your machine.\n",
      "2022-12-07 12:05:41.797711: E tensorflow/stream_executor/cuda/cuda_blas.cc:2981] Unable to register cuBLAS factory: Attempting to register factory for plugin cuBLAS when one has already been registered\n",
      "2022-12-07 12:05:48.697755: W tensorflow/stream_executor/platform/default/dso_loader.cc:64] Could not load dynamic library 'libnvinfer.so.7'; dlerror: libnvinfer.so.7: cannot open shared object file: No such file or directory\n",
      "2022-12-07 12:05:48.698022: W tensorflow/stream_executor/platform/default/dso_loader.cc:64] Could not load dynamic library 'libnvinfer_plugin.so.7'; dlerror: libnvinfer_plugin.so.7: cannot open shared object file: No such file or directory\n",
      "2022-12-07 12:05:48.698040: W tensorflow/compiler/tf2tensorrt/utils/py_utils.cc:38] TF-TRT Warning: Cannot dlopen some TensorRT libraries. If you would like to use Nvidia GPU with TensorRT, please make sure the missing libraries mentioned above are installed properly.\n"
     ]
    }
   ],
   "source": [
    "import tensorflow as tf\n",
    "from tensorflow.keras.utils import to_categorical\n",
    "\n",
    "from tqdm import tqdm # to observ the progression\n",
    "import numpy as np\n",
    "import os\n",
    "from PIL import Image\n",
    "\n",
    "import matplotlib.pyplot as plt"
   ]
  },
  {
   "cell_type": "markdown",
   "metadata": {},
   "source": [
    "# Data preparation"
   ]
  },
  {
   "cell_type": "markdown",
   "metadata": {},
   "source": [
    "## Load data "
   ]
  },
  {
   "cell_type": "code",
   "execution_count": null,
   "metadata": {},
   "outputs": [],
   "source": [
    "#os.getcwd()"
   ]
  },
  {
   "cell_type": "code",
   "execution_count": null,
   "metadata": {},
   "outputs": [],
   "source": [
    "data_path = '../raw_data/EuroSAT'\n",
    "\n",
    "#classes_name = os.listdir(os.path.join(data_path))\n",
    "\n",
    "#f'Number of classes : {len(classes_name)} '"
   ]
  },
  {
   "cell_type": "markdown",
   "metadata": {},
   "source": [
    "## Balance / Unbalance checking \n",
    "--> (number images per category)"
   ]
  },
  {
   "cell_type": "code",
   "execution_count": null,
   "metadata": {},
   "outputs": [],
   "source": [
    "# for i in range(len(classes_name)):\n",
    "#     images_per_cat = os.listdir(os.path.join(data_path, classes_name[i]))\n",
    "#     print(\n",
    "#         f'{classes_name[i]} :   {len(images_per_cat)} images'\n",
    "#         )    "
   ]
  },
  {
   "cell_type": "markdown",
   "metadata": {},
   "source": [
    "**Dataset already balanced = No action**"
   ]
  },
  {
   "cell_type": "markdown",
   "metadata": {},
   "source": [
    "## Dataset conversion with labels encoding"
   ]
  },
  {
   "cell_type": "code",
   "execution_count": null,
   "metadata": {},
   "outputs": [],
   "source": [
    "def load_data(data_path:str):\n",
    "    \n",
    "    classes = {\n",
    "            'AnnualCrop':0,\n",
    "            'Forest':1, \n",
    "            'HerbaceousVegetation':2,\n",
    "            'Highway':3,\n",
    "            'Industrial':4,\n",
    "            'Pasture':5,\n",
    "            'PermanentCrop':6,\n",
    "            'Residential':7,\n",
    "            'River':8,\n",
    "            'SeaLake':9,\n",
    "            }\n",
    "    imgs = []\n",
    "    labels = []\n",
    "    for (cl, i) in classes.items():\n",
    "        images_path = [elt for elt in os.listdir(os.path.join(data_path, cl)) if elt.find('.jpg')>0]\n",
    "        for img in tqdm(images_path[:3000]):\n",
    "            path = os.path.join(data_path, cl, img)\n",
    "            if os.path.exists(path):\n",
    "                image = Image.open(path)\n",
    "                imgs.append(np.array(image))\n",
    "                labels.append(i)\n",
    "    X = np.array(imgs)\n",
    "    num_classes = len(set(labels))\n",
    "    y = to_categorical(labels, num_classes)\n",
    "    return X,y\n",
    "    "
   ]
  },
  {
   "cell_type": "code",
   "execution_count": null,
   "metadata": {},
   "outputs": [],
   "source": [
    "def shuffle_data(X,y, seed=None):\n",
    "    '''\n",
    "    Shuffle the X and y datas\n",
    "    if seed is used, it will fix the random\n",
    "    '''\n",
    "    if seed != None :\n",
    "        np.random.seed(seed)\n",
    "    p = np.random.permutation(len(X))\n",
    "    X, y = X[p], y[p]\n",
    "    return X, y"
   ]
  },
  {
   "cell_type": "code",
   "execution_count": null,
   "metadata": {},
   "outputs": [],
   "source": [
    "X, y = load_data(data_path)"
   ]
  },
  {
   "cell_type": "markdown",
   "metadata": {},
   "source": [
    "Let's check the datas format after loading (and also encoding for y) :"
   ]
  },
  {
   "cell_type": "code",
   "execution_count": null,
   "metadata": {},
   "outputs": [],
   "source": [
    "X, y = shuffle_data(X,y, 0)"
   ]
  },
  {
   "cell_type": "code",
   "execution_count": null,
   "metadata": {},
   "outputs": [],
   "source": [
    "# print(\"______________Check X________________________\")\n",
    "# print(f'X shape : {X.shape},min X value is : {np.min(X)}, Max X value is : {np.max(X)} ')\n",
    "# print(\"______________Check y _______________________\")\n",
    "# print(f'y shape : {y.shape}')"
   ]
  },
  {
   "cell_type": "code",
   "execution_count": null,
   "metadata": {},
   "outputs": [],
   "source": [
    "# k=0\n",
    "# plt.figure(figsize=(20,15))\n",
    "# for i in range(len(classes_name)):\n",
    "#     plt.subplot(1,11, i+1)\n",
    "#     img = np.squeeze(X[k])\n",
    "#     plt.imshow(img, cmap='gray')\n",
    "#     k+=2499\n",
    "    \n",
    "#     print(k)\n"
   ]
  },
  {
   "cell_type": "markdown",
   "metadata": {},
   "source": [
    "## Train & test split :"
   ]
  },
  {
   "cell_type": "code",
   "execution_count": null,
   "metadata": {},
   "outputs": [],
   "source": [
    "def data_split(X,y,val_perc, test_perc):\n",
    "    first_split = int(len(X) * test_perc)  \n",
    "    second_split = first_split + int(len(X) * val_perc)\n",
    "    X_test, X_val, X_train = X[:first_split], X[first_split:second_split], X[second_split:]\n",
    "    y_test, y_val, y_train = y[:first_split], y[first_split:second_split], y[second_split:]\n",
    "    #print(f'X_train shape : {X_train.shape},X_val shape : {X_val.shape}, X_test shape : {X_test.shape}')\n",
    "    #print(f'y_train shape : {y_train.shape},y_val shape : {y_val.shape},  y_test shape : {y_test.shape}')\n",
    "    return X_train, X_val, X_test, y_train, y_val, y_test"
   ]
  },
  {
   "cell_type": "code",
   "execution_count": null,
   "metadata": {},
   "outputs": [],
   "source": [
    "X_train, X_val, X_test, y_train, y_val, y_test = data_split(X,y,0.1,0.1)"
   ]
  },
  {
   "cell_type": "markdown",
   "metadata": {},
   "source": [
    "## Data scaling checking"
   ]
  },
  {
   "cell_type": "code",
   "execution_count": null,
   "metadata": {},
   "outputs": [],
   "source": [
    "# # Testing whether we need to normalize or not\n",
    "# f'X_train min = {np.min(X_train)}, X_train Max = {np.max(X_train)}, X_test min = {np.min(X_test)}, X_test Max = {np.max(X_test)}'\n"
   ]
  },
  {
   "cell_type": "markdown",
   "metadata": {},
   "source": [
    "**--> Will be done in the model**"
   ]
  },
  {
   "cell_type": "markdown",
   "metadata": {},
   "source": [
    "# Model"
   ]
  },
  {
   "cell_type": "markdown",
   "metadata": {},
   "source": [
    "## Dummy model"
   ]
  },
  {
   "cell_type": "code",
   "execution_count": null,
   "metadata": {},
   "outputs": [],
   "source": [
    "# list=[]\n",
    "# for i in range(len(classes_name)):\n",
    "#     images_per_cat = os.listdir(os.path.join(data_path, classes_name[i]))\n",
    "#     list.append((len(images_per_cat)/27000))\n",
    "#     print(f'{(len(images_per_cat)/27000)} probability of classe {i}')  "
   ]
  },
  {
   "cell_type": "code",
   "execution_count": null,
   "metadata": {},
   "outputs": [],
   "source": [
    "# import numpy as np\n",
    "# np.mean(list)"
   ]
  },
  {
   "cell_type": "markdown",
   "metadata": {},
   "source": [
    "##  Basic model"
   ]
  },
  {
   "cell_type": "code",
   "execution_count": null,
   "metadata": {},
   "outputs": [],
   "source": [
    "from tensorflow.keras import Sequential, layers\n",
    "from tensorflow.keras import optimizers\n",
    "from tensorflow.keras.callbacks import EarlyStopping\n",
    "from tensorflow.keras.layers.experimental.preprocessing import Rescaling\n",
    "\n",
    "def load_basic_model():\n",
    "    \n",
    "    model = Sequential()\n",
    "    model.add(Rescaling(1./255, input_shape=(64,64,3)))\n",
    "    \n",
    "    model.add(layers.Conv2D(16, kernel_size=(3,3), padding='same', activation='relu'))\n",
    "    model.add(layers.MaxPooling2D(pool_size=(3,3)))\n",
    " \n",
    "    model.add(layers.Conv2D(32, kernel_size=(2,2), padding='same', activation=\"relu\"))\n",
    "    model.add(layers.MaxPooling2D(pool_size=(2,2)))\n",
    "\n",
    "    #model.add(layers.Conv2D(64, kernel_size=(2,2), padding='same', activation=\"relu\"))\n",
    "    #model.add(layers.MaxPooling2D(pool_size=(2,2)))\n",
    "    \n",
    "    model.add(layers.Flatten())\n",
    "    model.add(layers.Dense(50, activation='relu'))\n",
    "    model.add(layers.Dense(10, activation='softmax'))\n",
    "    \n",
    "    opt = optimizers.Adam(learning_rate=1e-4)\n",
    "    model.compile(loss='categorical_crossentropy',\n",
    "                  optimizer=opt,\n",
    "                  metrics=['accuracy'])\n",
    "    \n",
    "    return model"
   ]
  },
  {
   "cell_type": "code",
   "execution_count": null,
   "metadata": {},
   "outputs": [],
   "source": [
    "model_basic = load_basic_model()\n",
    "#model_basic.summary()"
   ]
  },
  {
   "cell_type": "code",
   "execution_count": null,
   "metadata": {},
   "outputs": [],
   "source": [
    "def fit_model(model, X_train, y_train,X_val, y_val,epochs=100):\n",
    "    es = EarlyStopping(monitor = 'val_accuracy', \n",
    "                    patience = 5, \n",
    "                    restore_best_weights = True,\n",
    "                    verbose = 1, \n",
    "                    )\n",
    "\n",
    "    history = model.fit(X_train, y_train,\n",
    "                                validation_data = (X_val, y_val),\n",
    "                                batch_size = 32, \n",
    "                                epochs=epochs, \n",
    "                                callbacks=[es])\n",
    "    return history\n"
   ]
  },
  {
   "cell_type": "code",
   "execution_count": null,
   "metadata": {},
   "outputs": [],
   "source": [
    "history = fit_model(model_basic, X_train, y_train,X_val, y_val,epochs=2)"
   ]
  },
  {
   "cell_type": "markdown",
   "metadata": {},
   "source": [
    "**Loss & accuracy (train/val):**"
   ]
  },
  {
   "cell_type": "code",
   "execution_count": null,
   "metadata": {},
   "outputs": [],
   "source": [
    "def plot_loss_accuracy(history, title=None):\n",
    "    fig, ax = plt.subplots(1,2, figsize=(20,7))\n",
    "    \n",
    "    # --- LOSS --- \n",
    "    \n",
    "    ax[0].plot(history.history['loss'])\n",
    "    ax[0].plot(history.history['val_loss'])\n",
    "    ax[0].set_title('Model loss')\n",
    "    ax[0].set_ylabel('Loss')\n",
    "    ax[0].set_xlabel('Epoch')\n",
    "    ax[0].set_ylim((0,3))\n",
    "    ax[0].legend(['Train', 'Val'], loc='best')\n",
    "    ax[0].grid(axis=\"x\",linewidth=0.5)\n",
    "    ax[0].grid(axis=\"y\",linewidth=0.5)\n",
    "    \n",
    "    # --- ACCURACY\n",
    "    \n",
    "    ax[1].plot(history.history['accuracy'])\n",
    "    ax[1].plot(history.history['val_accuracy'])\n",
    "    ax[1].set_title('Model Accuracy')\n",
    "    ax[1].set_ylabel('Accuracy')\n",
    "    ax[1].set_xlabel('Epoch')\n",
    "    ax[1].legend(['Train', 'Val'], loc='best')\n",
    "    ax[1].set_ylim((0,1))\n",
    "    ax[1].grid(axis=\"x\",linewidth=0.5)\n",
    "    ax[1].grid(axis=\"y\",linewidth=0.5)\n",
    "    \n",
    "    if title:\n",
    "        fig.suptitle(title)"
   ]
  },
  {
   "cell_type": "code",
   "execution_count": null,
   "metadata": {},
   "outputs": [],
   "source": [
    "plot_loss_accuracy(history)"
   ]
  },
  {
   "cell_type": "markdown",
   "metadata": {},
   "source": [
    "**Model evaluation:**"
   ]
  },
  {
   "cell_type": "code",
   "execution_count": null,
   "metadata": {},
   "outputs": [],
   "source": [
    "evaluation = model_basic.evaluate(X_test, y_test)\n",
    "evaluation"
   ]
  },
  {
   "cell_type": "code",
   "execution_count": null,
   "metadata": {},
   "outputs": [],
   "source": [
    "test_accuracy = evaluation[-1]\n",
    "print(f\"test_accuracy = {round(test_accuracy,2)*100} %\")"
   ]
  },
  {
   "cell_type": "code",
   "execution_count": null,
   "metadata": {},
   "outputs": [],
   "source": [
    "os.getcwd()"
   ]
  },
  {
   "cell_type": "code",
   "execution_count": null,
   "metadata": {},
   "outputs": [],
   "source": [
    "data_path = '../image_Forest.jpg'"
   ]
  },
  {
   "cell_type": "code",
   "execution_count": null,
   "metadata": {},
   "outputs": [],
   "source": [
    "X_test2 = []\n",
    "X_test2.append(np.array(Image.open(data_path)))\n",
    "X_test2=np.array(X_test2)"
   ]
  },
  {
   "cell_type": "code",
   "execution_count": null,
   "metadata": {},
   "outputs": [],
   "source": [
    "X_test2.shape"
   ]
  },
  {
   "cell_type": "code",
   "execution_count": null,
   "metadata": {},
   "outputs": [],
   "source": [
    "pred = model_basic.predict(X_test2)\n",
    "pred[0][np.argmax(pred)], np.argmax(pred)"
   ]
  },
  {
   "cell_type": "code",
   "execution_count": 27,
   "metadata": {},
   "outputs": [
    {
     "ename": "NameError",
     "evalue": "name 'model_basic' is not defined",
     "output_type": "error",
     "traceback": [
      "\u001b[0;31m---------------------------------------------------------------------------\u001b[0m",
      "\u001b[0;31mNameError\u001b[0m                                 Traceback (most recent call last)",
      "Cell \u001b[0;32mIn [27], line 3\u001b[0m\n\u001b[1;32m      1\u001b[0m \u001b[39mfrom\u001b[39;00m \u001b[39mtensorflow\u001b[39;00m\u001b[39m.\u001b[39;00m\u001b[39mkeras\u001b[39;00m \u001b[39mimport\u001b[39;00m models\n\u001b[1;32m      2\u001b[0m model_path \u001b[39m=\u001b[39m \u001b[39m'\u001b[39m\u001b[39m../models/my_model\u001b[39m\u001b[39m'\u001b[39m\n\u001b[0;32m----> 3\u001b[0m models\u001b[39m.\u001b[39msave_model(model_basic, model_path)\n",
      "\u001b[0;31mNameError\u001b[0m: name 'model_basic' is not defined"
     ]
    }
   ],
   "source": [
    "from tensorflow.keras import models\n",
    "model_path = '../models/my_model'\n",
    "models.save_model(model_basic, model_path)"
   ]
  },
  {
   "cell_type": "code",
   "execution_count": 29,
   "metadata": {},
   "outputs": [],
   "source": [
    "def load_model(model_path) :\n",
    "    loaded_model = models.load_model(model_path)\n",
    "    return loaded_model   "
   ]
  },
  {
   "cell_type": "code",
   "execution_count": 30,
   "metadata": {},
   "outputs": [
    {
     "name": "stderr",
     "output_type": "stream",
     "text": [
      "2022-12-07 12:21:09.018610: W tensorflow/stream_executor/platform/default/dso_loader.cc:64] Could not load dynamic library 'libcuda.so.1'; dlerror: libcuda.so.1: cannot open shared object file: No such file or directory\n",
      "2022-12-07 12:21:09.032100: W tensorflow/stream_executor/cuda/cuda_driver.cc:263] failed call to cuInit: UNKNOWN ERROR (303)\n",
      "2022-12-07 12:21:09.032185: I tensorflow/stream_executor/cuda/cuda_diagnostics.cc:156] kernel driver does not appear to be running on this host (schneider-1091-fabrice-d-eustachio): /proc/driver/nvidia/version does not exist\n",
      "2022-12-07 12:21:09.063465: I tensorflow/core/platform/cpu_feature_guard.cc:193] This TensorFlow binary is optimized with oneAPI Deep Neural Network Library (oneDNN) to use the following CPU instructions in performance-critical operations:  AVX2 FMA\n",
      "To enable them in other operations, rebuild TensorFlow with the appropriate compiler flags.\n"
     ]
    }
   ],
   "source": [
    "loaded_model = load_model(model_path)"
   ]
  },
  {
   "cell_type": "code",
   "execution_count": 59,
   "metadata": {},
   "outputs": [],
   "source": [
    "new_images_path =  './new_tiles'\n"
   ]
  },
  {
   "cell_type": "code",
   "execution_count": 32,
   "metadata": {},
   "outputs": [],
   "source": [
    "def get_new_images(new_images_path):\n",
    "    imgs = []\n",
    "    images_path = os.listdir(new_images_path)\n",
    "    for img in tqdm(images_path):\n",
    "        path = os.path.join(new_images_path, img)\n",
    "        if os.path.exists(path):\n",
    "            image = Image.open(path)\n",
    "            imgs.append(np.array(image))\n",
    "    return np.array(imgs)\n"
   ]
  },
  {
   "cell_type": "code",
   "execution_count": 33,
   "metadata": {},
   "outputs": [
    {
     "name": "stderr",
     "output_type": "stream",
     "text": [
      "100%|██████████| 256/256 [00:00<00:00, 4241.44it/s]\n"
     ]
    }
   ],
   "source": [
    "X_new = get_new_images(new_images_path)"
   ]
  },
  {
   "cell_type": "code",
   "execution_count": 60,
   "metadata": {},
   "outputs": [],
   "source": [
    "def predict_new_images(loaded_model, X_new):\n",
    "    size = int(X_new.shape[0] ** 0.5)\n",
    "    y_new = loaded_model.predict(X_new)\n",
    "    y_pred_class = np.argmax(y_new, axis = 1)\n",
    "    return y_pred_class.reshape((size, size))\n"
   ]
  },
  {
   "cell_type": "code",
   "execution_count": 61,
   "metadata": {},
   "outputs": [
    {
     "name": "stdout",
     "output_type": "stream",
     "text": [
      "8/8 [==============================] - 0s 30ms/step\n"
     ]
    },
    {
     "data": {
      "text/plain": [
       "array([[4, 4, 3, 7, 7, 7, 4, 3, 7, 1, 8, 7, 4, 7, 3, 6],\n",
       "       [4, 4, 7, 8, 4, 7, 8, 4, 7, 4, 4, 2, 7, 8, 5, 7],\n",
       "       [6, 4, 0, 7, 5, 2, 5, 7, 4, 7, 3, 6, 2, 2, 7, 0],\n",
       "       [7, 7, 4, 2, 7, 5, 8, 7, 6, 7, 4, 9, 7, 4, 8, 2],\n",
       "       [4, 7, 2, 7, 2, 2, 7, 4, 6, 4, 7, 7, 7, 7, 7, 7],\n",
       "       [2, 6, 7, 8, 7, 7, 6, 7, 6, 4, 4, 0, 6, 5, 4, 7],\n",
       "       [7, 7, 7, 4, 4, 7, 4, 4, 4, 4, 7, 7, 0, 4, 6, 4],\n",
       "       [4, 8, 2, 7, 7, 7, 9, 4, 6, 4, 7, 8, 7, 0, 9, 4],\n",
       "       [4, 4, 7, 5, 4, 7, 7, 7, 7, 7, 7, 7, 4, 0, 4, 7],\n",
       "       [4, 4, 7, 3, 4, 4, 7, 4, 4, 2, 5, 7, 6, 4, 7, 5],\n",
       "       [2, 7, 4, 7, 7, 5, 7, 4, 6, 8, 4, 4, 4, 0, 7, 1],\n",
       "       [4, 7, 4, 4, 7, 2, 4, 5, 7, 7, 4, 4, 7, 0, 7, 8],\n",
       "       [7, 5, 6, 4, 0, 7, 2, 7, 4, 7, 7, 7, 3, 4, 7, 4],\n",
       "       [7, 4, 7, 7, 7, 4, 7, 5, 2, 6, 0, 9, 7, 8, 4, 7],\n",
       "       [4, 2, 7, 2, 7, 1, 7, 2, 7, 9, 4, 7, 7, 5, 7, 4],\n",
       "       [0, 7, 6, 0, 7, 7, 7, 2, 9, 7, 7, 4, 7, 7, 7, 7]])"
      ]
     },
     "execution_count": 61,
     "metadata": {},
     "output_type": "execute_result"
    }
   ],
   "source": [
    "y_pred_class = predict_new_images(loaded_model, X_new)\n",
    "y_pred_class"
   ]
  },
  {
   "cell_type": "code",
   "execution_count": 52,
   "metadata": {},
   "outputs": [
    {
     "data": {
      "text/plain": [
       "16"
      ]
     },
     "execution_count": 52,
     "metadata": {},
     "output_type": "execute_result"
    }
   ],
   "source": [
    "size"
   ]
  },
  {
   "cell_type": "code",
   "execution_count": null,
   "metadata": {},
   "outputs": [],
   "source": []
  }
 ],
 "metadata": {
  "kernelspec": {
   "display_name": "Python 3.10.6 64-bit ('shims': pyenv)",
   "language": "python",
   "name": "python3"
  },
  "language_info": {
   "codemirror_mode": {
    "name": "ipython",
    "version": 3
   },
   "file_extension": ".py",
   "mimetype": "text/x-python",
   "name": "python",
   "nbconvert_exporter": "python",
   "pygments_lexer": "ipython3",
   "version": "3.10.6"
  },
  "toc": {
   "base_numbering": 1,
   "nav_menu": {},
   "number_sections": false,
   "sideBar": true,
   "skip_h1_title": false,
   "title_cell": "Table of Contents",
   "title_sidebar": "Contents",
   "toc_cell": false,
   "toc_position": {
    "height": "calc(100% - 180px)",
    "left": "10px",
    "top": "150px",
    "width": "243.333px"
   },
   "toc_section_display": true,
   "toc_window_display": true
  },
  "vscode": {
   "interpreter": {
    "hash": "59aa29171c5c4002eb591004a889a28f1d26dffb9091c13152bd2a79508ab687"
   }
  }
 },
 "nbformat": 4,
 "nbformat_minor": 1
}
