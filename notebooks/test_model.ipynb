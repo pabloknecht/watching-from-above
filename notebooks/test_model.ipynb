{
 "cells": [
  {
   "cell_type": "code",
   "execution_count": 1,
   "metadata": {},
   "outputs": [],
   "source": [
    "# import numpy as np\n",
    "# import os\n",
    "# from PIL import Image\n",
    "# import matplotlib.pyplot as plt"
   ]
  },
  {
   "cell_type": "markdown",
   "metadata": {},
   "source": [
    "# Import functions"
   ]
  },
  {
   "cell_type": "code",
   "execution_count": 2,
   "metadata": {},
   "outputs": [
    {
     "name": "stderr",
     "output_type": "stream",
     "text": [
      "2022-12-13 09:07:24.993526: I tensorflow/core/platform/cpu_feature_guard.cc:193] This TensorFlow binary is optimized with oneAPI Deep Neural Network Library (oneDNN) to use the following CPU instructions in performance-critical operations:  AVX2 FMA\n",
      "To enable them in other operations, rebuild TensorFlow with the appropriate compiler flags.\n",
      "2022-12-13 09:07:25.271310: W tensorflow/compiler/xla/stream_executor/platform/default/dso_loader.cc:64] Could not load dynamic library 'libcudart.so.11.0'; dlerror: libcudart.so.11.0: cannot open shared object file: No such file or directory\n",
      "2022-12-13 09:07:25.271424: I tensorflow/compiler/xla/stream_executor/cuda/cudart_stub.cc:29] Ignore above cudart dlerror if you do not have a GPU set up on your machine.\n",
      "2022-12-13 09:07:26.598959: W tensorflow/compiler/xla/stream_executor/platform/default/dso_loader.cc:64] Could not load dynamic library 'libnvinfer.so.7'; dlerror: libnvinfer.so.7: cannot open shared object file: No such file or directory\n",
      "2022-12-13 09:07:26.599092: W tensorflow/compiler/xla/stream_executor/platform/default/dso_loader.cc:64] Could not load dynamic library 'libnvinfer_plugin.so.7'; dlerror: libnvinfer_plugin.so.7: cannot open shared object file: No such file or directory\n",
      "2022-12-13 09:07:26.599105: W tensorflow/compiler/tf2tensorrt/utils/py_utils.cc:38] TF-TRT Warning: Cannot dlopen some TensorRT libraries. If you would like to use Nvidia GPU with TensorRT, please make sure the missing libraries mentioned above are installed properly.\n"
     ]
    }
   ],
   "source": [
    "from wfa.ml_logic.model import load_data, shuffle_data, data_split, plot_loss_accuracy\n",
    "from wfa.ml_logic.registry import save_model, load_model"
   ]
  },
  {
   "cell_type": "markdown",
   "metadata": {},
   "source": [
    "## parameters of each function\n",
    "- load_data(data_path:str)\n",
    "- shuffle_data(X,y, seed=None)\n",
    "- data_split(X,y,val_perc, test_perc)\n",
    "- plot_loss_accuracy(history, title=None)\n",
    "- save_model(model: Model = None, params: dict = {}, metrics: dict = {})\n",
    "- load_model(save_copy_locally=False)"
   ]
  },
  {
   "cell_type": "markdown",
   "metadata": {},
   "source": [
    "# Import / shuffle / split data"
   ]
  },
  {
   "cell_type": "code",
   "execution_count": 3,
   "metadata": {},
   "outputs": [
    {
     "name": "stderr",
     "output_type": "stream",
     "text": [
      "100%|███████████████████████████████████████████████████████████████████████████████████████████████████████████████████████████████████████████████████████████████████████| 3000/3000 [00:07<00:00, 413.62it/s]\n",
      "100%|███████████████████████████████████████████████████████████████████████████████████████████████████████████████████████████████████████████████████████████████████████| 3000/3000 [00:03<00:00, 931.51it/s]\n",
      "100%|███████████████████████████████████████████████████████████████████████████████████████████████████████████████████████████████████████████████████████████████████████| 3000/3000 [00:03<00:00, 897.09it/s]\n",
      "100%|███████████████████████████████████████████████████████████████████████████████████████████████████████████████████████████████████████████████████████████████████████| 2500/2500 [00:02<00:00, 938.86it/s]\n",
      "100%|███████████████████████████████████████████████████████████████████████████████████████████████████████████████████████████████████████████████████████████████████████| 2500/2500 [00:03<00:00, 799.31it/s]\n",
      "100%|██████████████████████████████████████████████████████████████████████████████████████████████████████████████████████████████████████████████████████████████████████| 2000/2000 [00:01<00:00, 1163.00it/s]\n",
      "100%|███████████████████████████████████████████████████████████████████████████████████████████████████████████████████████████████████████████████████████████████████████| 2500/2500 [00:05<00:00, 447.20it/s]\n",
      "100%|███████████████████████████████████████████████████████████████████████████████████████████████████████████████████████████████████████████████████████████████████████| 3000/3000 [00:04<00:00, 706.32it/s]\n",
      "100%|███████████████████████████████████████████████████████████████████████████████████████████████████████████████████████████████████████████████████████████████████████| 2500/2500 [00:04<00:00, 520.67it/s]\n",
      "100%|███████████████████████████████████████████████████████████████████████████████████████████████████████████████████████████████████████████████████████████████████████| 3000/3000 [00:05<00:00, 514.59it/s]\n"
     ]
    }
   ],
   "source": [
    "data_path = '../raw_data/EuroSAT'\n",
    "X, y = load_data(data_path)\n",
    "X, y = shuffle_data(X, y)\n",
    "X_train, X_val, X_test, y_train, y_val, y_test = data_split(X,y,0.1,0.2)\n"
   ]
  },
  {
   "cell_type": "markdown",
   "metadata": {},
   "source": [
    "# Create Model"
   ]
  },
  {
   "cell_type": "code",
   "execution_count": 4,
   "metadata": {},
   "outputs": [],
   "source": [
    "# #import librairies\n",
    "# import tensorflow as tf\n",
    "# from tensorflow.keras.utils import to_categorical\n",
    "from tensorflow.keras import Sequential, layers\n",
    "from tensorflow.keras import optimizers\n",
    "from tensorflow.keras.callbacks import EarlyStopping\n",
    "from tensorflow.keras.layers.experimental.preprocessing import Rescaling\n",
    "# from tensorflow.keras import models"
   ]
  },
  {
   "cell_type": "markdown",
   "metadata": {},
   "source": [
    "## Model Parameters"
   ]
  },
  {
   "cell_type": "code",
   "execution_count": 5,
   "metadata": {},
   "outputs": [
    {
     "data": {
      "text/plain": [
       "{'epochs': 1,\n",
       " 'patience': 5,\n",
       " 'learning_rate': 0.0001,\n",
       " 'batch_size': 32,\n",
       " 'n_conv_2D': 2,\n",
       " 'conv_2D_1': 16,\n",
       " 'conv_2D_2': 32,\n",
       " 'conv_2D_3': 64,\n",
       " 'ks_1': (3, 3),\n",
       " 'ks_2': (2, 2),\n",
       " 'ks_3': (2, 2),\n",
       " 'Dense_1': 50}"
      ]
     },
     "execution_count": 5,
     "metadata": {},
     "output_type": "execute_result"
    }
   ],
   "source": [
    "epochs = 1\n",
    "patience = 5\n",
    "learning_rate = 1e-4\n",
    "batch_size=32\n",
    "n_conv_2D = 2\n",
    "conv_2D_1 = 16\n",
    "conv_2D_2 = 32\n",
    "conv_2D_3 = 64\n",
    "ks_1 = (3,3)\n",
    "ks_2 = (2,2)\n",
    "ks_3 = (2,2)\n",
    "Dense_1 = 50\n",
    "\n",
    "params = dict(epochs = epochs, patience=patience, learning_rate=learning_rate, batch_size=batch_size,\n",
    "              n_conv_2D=n_conv_2D, conv_2D_1=conv_2D_1, conv_2D_2=conv_2D_2, conv_2D_3=conv_2D_3,\n",
    "              ks_1=ks_1, ks_2=ks_2, ks_3=ks_3, \n",
    "              Dense_1=Dense_1\n",
    "             )\n",
    "params"
   ]
  },
  {
   "cell_type": "code",
   "execution_count": 6,
   "metadata": {},
   "outputs": [
    {
     "name": "stderr",
     "output_type": "stream",
     "text": [
      "2022-12-13 09:08:12.685431: W tensorflow/compiler/xla/stream_executor/platform/default/dso_loader.cc:64] Could not load dynamic library 'libcuda.so.1'; dlerror: libcuda.so.1: cannot open shared object file: No such file or directory\n",
      "2022-12-13 09:08:12.685484: W tensorflow/compiler/xla/stream_executor/cuda/cuda_driver.cc:265] failed call to cuInit: UNKNOWN ERROR (303)\n",
      "2022-12-13 09:08:12.685525: I tensorflow/compiler/xla/stream_executor/cuda/cuda_diagnostics.cc:156] kernel driver does not appear to be running on this host (schneider-1091-luis-roberto-sant-anna-henriques): /proc/driver/nvidia/version does not exist\n",
      "2022-12-13 09:08:12.685886: I tensorflow/core/platform/cpu_feature_guard.cc:193] This TensorFlow binary is optimized with oneAPI Deep Neural Network Library (oneDNN) to use the following CPU instructions in performance-critical operations:  AVX2 FMA\n",
      "To enable them in other operations, rebuild TensorFlow with the appropriate compiler flags.\n"
     ]
    }
   ],
   "source": [
    "model = Sequential()\n",
    "model.add(Rescaling(1./255, input_shape=(64,64,3)))\n",
    "\n",
    "model.add(layers.Conv2D(conv_2D_1, kernel_size=ks_1, padding='same', activation='relu'))\n",
    "model.add(layers.MaxPooling2D(pool_size=ks_1))\n",
    "\n",
    "model.add(layers.Conv2D(conv_2D_2, kernel_size=ks_2, padding='same', activation=\"relu\"))\n",
    "model.add(layers.MaxPooling2D(pool_size=ks_2))\n",
    "\n",
    "#model.add(layers.Conv2D(conv_2D_3, kernel_size=ks_3, padding='same', activation=\"relu\"))\n",
    "#model.add(layers.MaxPooling2D(pool_size=ks_3))\n",
    "\n",
    "model.add(layers.Flatten())\n",
    "model.add(layers.Dense(50, activation='relu'))\n",
    "model.add(layers.Dense(10, activation='softmax'))\n",
    "\n",
    "opt = optimizers.Adam(learning_rate=learning_rate)\n",
    "model.compile(loss='categorical_crossentropy',\n",
    "              optimizer=opt,\n",
    "              metrics=['accuracy'])"
   ]
  },
  {
   "cell_type": "markdown",
   "metadata": {},
   "source": [
    "## Fit Model"
   ]
  },
  {
   "cell_type": "code",
   "execution_count": 7,
   "metadata": {},
   "outputs": [
    {
     "name": "stdout",
     "output_type": "stream",
     "text": [
      "591/591 [==============================] - 57s 94ms/step - loss: 1.9490 - accuracy: 0.2734 - val_loss: 1.6216 - val_accuracy: 0.3970\n"
     ]
    }
   ],
   "source": [
    "es = EarlyStopping(monitor = 'val_accuracy',\n",
    "                patience = patience,\n",
    "                restore_best_weights = True,\n",
    "                verbose = 1,\n",
    "                )\n",
    "\n",
    "history = model.fit(X_train, y_train,\n",
    "                            validation_data = (X_val, y_val),\n",
    "                            batch_size = batch_size,\n",
    "                            epochs=epochs,\n",
    "                            callbacks=[es])\n"
   ]
  },
  {
   "cell_type": "markdown",
   "metadata": {},
   "source": [
    "## Get metrics and save model"
   ]
  },
  {
   "cell_type": "code",
   "execution_count": 8,
   "metadata": {},
   "outputs": [
    {
     "name": "stdout",
     "output_type": "stream",
     "text": [
      "169/169 [==============================] - 5s 28ms/step - loss: 1.6467 - accuracy: 0.4019\n"
     ]
    }
   ],
   "source": [
    "val_accuracy = history.history['val_accuracy'][0]\n",
    "test_accuracy = model.evaluate(X_test, y_test)[1]\n",
    "metrics = dict(accuracy_val = val_accuracy, accuracy_test = test_accuracy)"
   ]
  },
  {
   "cell_type": "code",
   "execution_count": 9,
   "metadata": {},
   "outputs": [
    {
     "name": "stderr",
     "output_type": "stream",
     "text": [
      "WARNING:absl:Found untraced functions such as _jit_compiled_convolution_op, _jit_compiled_convolution_op, _update_step_xla while saving (showing 3 of 3). These functions will not be directly callable after loading.\n"
     ]
    },
    {
     "name": "stdout",
     "output_type": "stream",
     "text": [
      "INFO:tensorflow:Assets written to: /tmp/tmpvz7kt7h0/model/data/model/assets\n"
     ]
    },
    {
     "name": "stderr",
     "output_type": "stream",
     "text": [
      "INFO:tensorflow:Assets written to: /tmp/tmpvz7kt7h0/model/data/model/assets\n",
      "/home/luis.robertosantannahenriques/.pyenv/versions/3.10.6/envs/watching-from-above/lib/python3.10/site-packages/_distutils_hack/__init__.py:33: UserWarning: Setuptools is replacing distutils.\n",
      "  warnings.warn(\"Setuptools is replacing distutils.\")\n",
      "Registered model 'wfa' already exists. Creating a new version of this model...\n",
      "2022/12/13 09:09:41 INFO mlflow.tracking._model_registry.client: Waiting up to 300 seconds for model version to finish creation.                     Model name: wfa, version 5\n",
      "Created version '5' of model 'wfa'.\n"
     ]
    }
   ],
   "source": [
    "save_model(model, params=params, metrics=metrics)"
   ]
  },
  {
   "cell_type": "code",
   "execution_count": null,
   "metadata": {},
   "outputs": [],
   "source": []
  }
 ],
 "metadata": {
  "kernelspec": {
   "display_name": "Python 3 (ipykernel)",
   "language": "python",
   "name": "python3"
  },
  "language_info": {
   "codemirror_mode": {
    "name": "ipython",
    "version": 3
   },
   "file_extension": ".py",
   "mimetype": "text/x-python",
   "name": "python",
   "nbconvert_exporter": "python",
   "pygments_lexer": "ipython3",
   "version": "3.10.6"
  },
  "toc": {
   "base_numbering": 1,
   "nav_menu": {},
   "number_sections": true,
   "sideBar": true,
   "skip_h1_title": false,
   "title_cell": "Table of Contents",
   "title_sidebar": "Contents",
   "toc_cell": false,
   "toc_position": {},
   "toc_section_display": true,
   "toc_window_display": false
  },
  "vscode": {
   "interpreter": {
    "hash": "1f8e0422ce7e4ff236cfdf432ec9665c2ac19a040199a19f4216759b0359e44f"
   }
  }
 },
 "nbformat": 4,
 "nbformat_minor": 2
}
