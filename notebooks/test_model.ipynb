{
 "cells": [
  {
   "cell_type": "code",
   "execution_count": 1,
   "metadata": {},
   "outputs": [],
   "source": [
    "# import numpy as np\n",
    "# import os\n",
    "# from PIL import Image\n",
    "\n",
    "# import matplotlib.pyplot as plt"
   ]
  },
  {
   "cell_type": "markdown",
   "metadata": {},
   "source": [
    "# Import functions"
   ]
  },
  {
   "cell_type": "code",
   "execution_count": 2,
   "metadata": {},
   "outputs": [
    {
     "name": "stderr",
     "output_type": "stream",
     "text": [
      "2022-12-12 17:42:07.796498: I tensorflow/core/platform/cpu_feature_guard.cc:193] This TensorFlow binary is optimized with oneAPI Deep Neural Network Library (oneDNN) to use the following CPU instructions in performance-critical operations:  AVX2 FMA\n",
      "To enable them in other operations, rebuild TensorFlow with the appropriate compiler flags.\n",
      "2022-12-12 17:42:07.979905: W tensorflow/compiler/xla/stream_executor/platform/default/dso_loader.cc:64] Could not load dynamic library 'libcudart.so.11.0'; dlerror: libcudart.so.11.0: cannot open shared object file: No such file or directory\n",
      "2022-12-12 17:42:07.979935: I tensorflow/compiler/xla/stream_executor/cuda/cudart_stub.cc:29] Ignore above cudart dlerror if you do not have a GPU set up on your machine.\n",
      "2022-12-12 17:42:09.116095: W tensorflow/compiler/xla/stream_executor/platform/default/dso_loader.cc:64] Could not load dynamic library 'libnvinfer.so.7'; dlerror: libnvinfer.so.7: cannot open shared object file: No such file or directory\n",
      "2022-12-12 17:42:09.116239: W tensorflow/compiler/xla/stream_executor/platform/default/dso_loader.cc:64] Could not load dynamic library 'libnvinfer_plugin.so.7'; dlerror: libnvinfer_plugin.so.7: cannot open shared object file: No such file or directory\n",
      "2022-12-12 17:42:09.116252: W tensorflow/compiler/tf2tensorrt/utils/py_utils.cc:38] TF-TRT Warning: Cannot dlopen some TensorRT libraries. If you would like to use Nvidia GPU with TensorRT, please make sure the missing libraries mentioned above are installed properly.\n"
     ]
    }
   ],
   "source": [
    "from wfa.ml_logic.model import load_data, shuffle_data, data_split, plot_loss_accuracy\n",
    "from wfa.ml_logic.registry import save_model, load_model\n",
    "\n",
    "# load_data(data_path:str)\n",
    "# shuffle_data(X,y, seed=None)\n",
    "# data_split(X,y,val_perc, test_perc)\n",
    "# plot_loss_accuracy(history, title=None)\n",
    "# save_model(model: Model = None, params: dict = {}, metrics: dict = {})\n",
    "# load_model(save_copy_locally=False)"
   ]
  },
  {
   "cell_type": "markdown",
   "metadata": {},
   "source": [
    "# Import / shuffle / split data"
   ]
  },
  {
   "cell_type": "code",
   "execution_count": 3,
   "metadata": {},
   "outputs": [
    {
     "name": "stderr",
     "output_type": "stream",
     "text": [
      "100%|█████████████████████████████████████████████████████████████████████████████████████████████████████████████████████████████████████████████████████| 3000/3000 [00:00<00:00, 3448.25it/s]\n",
      "100%|█████████████████████████████████████████████████████████████████████████████████████████████████████████████████████████████████████████████████████| 3000/3000 [00:00<00:00, 3589.17it/s]\n",
      "100%|█████████████████████████████████████████████████████████████████████████████████████████████████████████████████████████████████████████████████████| 3000/3000 [00:00<00:00, 3428.99it/s]\n",
      "100%|█████████████████████████████████████████████████████████████████████████████████████████████████████████████████████████████████████████████████████| 2500/2500 [00:00<00:00, 3329.02it/s]\n",
      "100%|█████████████████████████████████████████████████████████████████████████████████████████████████████████████████████████████████████████████████████| 2500/2500 [00:00<00:00, 3188.03it/s]\n",
      "100%|█████████████████████████████████████████████████████████████████████████████████████████████████████████████████████████████████████████████████████| 2000/2000 [00:00<00:00, 3541.88it/s]\n",
      "100%|█████████████████████████████████████████████████████████████████████████████████████████████████████████████████████████████████████████████████████| 2500/2500 [00:01<00:00, 2336.95it/s]\n",
      "100%|█████████████████████████████████████████████████████████████████████████████████████████████████████████████████████████████████████████████████████| 3000/3000 [00:01<00:00, 1566.88it/s]\n",
      "100%|█████████████████████████████████████████████████████████████████████████████████████████████████████████████████████████████████████████████████████| 2500/2500 [00:01<00:00, 1681.78it/s]\n",
      "100%|██████████████████████████████████████████████████████████████████████████████████████████████████████████████████████████████████████████████████████| 3000/3000 [00:04<00:00, 603.89it/s]\n"
     ]
    }
   ],
   "source": [
    "data_path = '../raw_data/EuroSAT'\n",
    "X, y = load_data(data_path)\n",
    "X, y = shuffle_data(X, y, seed=0)\n",
    "X_train, X_val, X_test, y_train, y_val, y_test = data_split(X,y,0.1,0.1)\n"
   ]
  },
  {
   "cell_type": "markdown",
   "metadata": {},
   "source": [
    "# Create Model"
   ]
  },
  {
   "cell_type": "code",
   "execution_count": 4,
   "metadata": {},
   "outputs": [],
   "source": [
    "# #import librairies\n",
    "# import tensorflow as tf\n",
    "# from tensorflow.keras.utils import to_categorical\n",
    "from tensorflow.keras import Sequential, layers\n",
    "from tensorflow.keras import optimizers\n",
    "from tensorflow.keras.callbacks import EarlyStopping\n",
    "from tensorflow.keras.layers.experimental.preprocessing import Rescaling\n",
    "# from tensorflow.keras import models"
   ]
  },
  {
   "cell_type": "markdown",
   "metadata": {},
   "source": [
    "## Model Parameters"
   ]
  },
  {
   "cell_type": "code",
   "execution_count": 5,
   "metadata": {},
   "outputs": [
    {
     "data": {
      "text/plain": [
       "{'tester': 'Luis',\n",
       " 'epochs': 1,\n",
       " 'patience': 5,\n",
       " 'learning_rate': 0.0001,\n",
       " 'batch_size': 32,\n",
       " 'n_conv_2D': 2,\n",
       " 'conv_2D_1': 16,\n",
       " 'conv_2D_2': 32,\n",
       " 'conv_2D_3': 64,\n",
       " 'ks_1': (3, 3),\n",
       " 'ks_2': (2, 2),\n",
       " 'ks_3': (2, 2),\n",
       " 'Dense_1': 50}"
      ]
     },
     "execution_count": 5,
     "metadata": {},
     "output_type": "execute_result"
    }
   ],
   "source": [
    "tester='Luis'\n",
    "epochs = 1\n",
    "patience = 5\n",
    "learning_rate = 1e-4\n",
    "batch_size=32\n",
    "n_conv_2D = 2\n",
    "conv_2D_1 = 16\n",
    "conv_2D_2 = 32\n",
    "conv_2D_3 = 64\n",
    "ks_1 = (3,3)\n",
    "ks_2 = (2,2)\n",
    "ks_3 = (2,2)\n",
    "Dense_1 = 50\n",
    "\n",
    "params = dict(tester=tester,epochs = epochs, patience=patience, learning_rate=learning_rate, batch_size=batch_size,\n",
    "              n_conv_2D=n_conv_2D, conv_2D_1=conv_2D_1, conv_2D_2=conv_2D_2, conv_2D_3=conv_2D_3,\n",
    "              ks_1=ks_1, ks_2=ks_2, ks_3=ks_3, \n",
    "              Dense_1=Dense_1\n",
    "             )\n",
    "params"
   ]
  },
  {
   "cell_type": "code",
   "execution_count": 6,
   "metadata": {},
   "outputs": [
    {
     "name": "stderr",
     "output_type": "stream",
     "text": [
      "2022-12-12 17:42:26.481833: W tensorflow/compiler/xla/stream_executor/platform/default/dso_loader.cc:64] Could not load dynamic library 'libcuda.so.1'; dlerror: libcuda.so.1: cannot open shared object file: No such file or directory\n",
      "2022-12-12 17:42:26.481869: W tensorflow/compiler/xla/stream_executor/cuda/cuda_driver.cc:265] failed call to cuInit: UNKNOWN ERROR (303)\n",
      "2022-12-12 17:42:26.481899: I tensorflow/compiler/xla/stream_executor/cuda/cuda_diagnostics.cc:156] kernel driver does not appear to be running on this host (schneider-1091-luis-roberto-sant-anna-henriques): /proc/driver/nvidia/version does not exist\n",
      "2022-12-12 17:42:26.482209: I tensorflow/core/platform/cpu_feature_guard.cc:193] This TensorFlow binary is optimized with oneAPI Deep Neural Network Library (oneDNN) to use the following CPU instructions in performance-critical operations:  AVX2 FMA\n",
      "To enable them in other operations, rebuild TensorFlow with the appropriate compiler flags.\n"
     ]
    }
   ],
   "source": [
    "model = Sequential()\n",
    "model.add(Rescaling(1./255, input_shape=(64,64,3)))\n",
    "\n",
    "model.add(layers.Conv2D(conv_2D_1, kernel_size=ks_1, padding='same', activation='relu'))\n",
    "model.add(layers.MaxPooling2D(pool_size=ks_1))\n",
    "\n",
    "model.add(layers.Conv2D(conv_2D_2, kernel_size=ks_2, padding='same', activation=\"relu\"))\n",
    "model.add(layers.MaxPooling2D(pool_size=ks_2))\n",
    "\n",
    "#model.add(layers.Conv2D(conv_2D_3, kernel_size=ks_3, padding='same', activation=\"relu\"))\n",
    "#model.add(layers.MaxPooling2D(pool_size=ks_3))\n",
    "\n",
    "model.add(layers.Flatten())\n",
    "model.add(layers.Dense(50, activation='relu'))\n",
    "model.add(layers.Dense(10, activation='softmax'))\n",
    "\n",
    "opt = optimizers.Adam(learning_rate=learning_rate)\n",
    "model.compile(loss='categorical_crossentropy',\n",
    "              optimizer=opt,\n",
    "              metrics=['accuracy'])"
   ]
  },
  {
   "cell_type": "markdown",
   "metadata": {},
   "source": [
    "## Fit Model"
   ]
  },
  {
   "cell_type": "code",
   "execution_count": 7,
   "metadata": {},
   "outputs": [
    {
     "name": "stderr",
     "output_type": "stream",
     "text": [
      "2022-12-12 17:42:26.648973: W tensorflow/tsl/framework/cpu_allocator_impl.cc:82] Allocation of 265420800 exceeds 10% of free system memory.\n"
     ]
    },
    {
     "name": "stdout",
     "output_type": "stream",
     "text": [
      "675/675 [==============================] - 52s 75ms/step - loss: 1.8323 - accuracy: 0.3184 - val_loss: 1.4879 - val_accuracy: 0.4381\n"
     ]
    }
   ],
   "source": [
    "es = EarlyStopping(monitor = 'val_accuracy',\n",
    "                patience = patience,\n",
    "                restore_best_weights = True,\n",
    "                verbose = 1,\n",
    "                )\n",
    "\n",
    "history = model.fit(X_train, y_train,\n",
    "                            validation_data = (X_val, y_val),\n",
    "                            batch_size = batch_size,\n",
    "                            epochs=epochs,\n",
    "                            callbacks=[es])"
   ]
  },
  {
   "cell_type": "code",
   "execution_count": 8,
   "metadata": {},
   "outputs": [
    {
     "name": "stderr",
     "output_type": "stream",
     "text": [
      "WARNING:absl:Found untraced functions such as _jit_compiled_convolution_op, _jit_compiled_convolution_op, _update_step_xla while saving (showing 3 of 3). These functions will not be directly callable after loading.\n"
     ]
    },
    {
     "name": "stdout",
     "output_type": "stream",
     "text": [
      "INFO:tensorflow:Assets written to: /tmp/tmpu04a8i6d/model/data/model/assets\n"
     ]
    },
    {
     "name": "stderr",
     "output_type": "stream",
     "text": [
      "INFO:tensorflow:Assets written to: /tmp/tmpu04a8i6d/model/data/model/assets\n",
      "/home/luis.robertosantannahenriques/.pyenv/versions/3.10.6/envs/watching-from-above/lib/python3.10/site-packages/_distutils_hack/__init__.py:33: UserWarning: Setuptools is replacing distutils.\n",
      "  warnings.warn(\"Setuptools is replacing distutils.\")\n",
      "Successfully registered model 'wfa'.\n",
      "2022/12/12 17:43:29 INFO mlflow.tracking._model_registry.client: Waiting up to 300 seconds for model version to finish creation.                     Model name: wfa, version 1\n",
      "Created version '1' of model 'wfa'.\n"
     ]
    }
   ],
   "source": [
    "save_model(model, params=params, metrics={})"
   ]
  },
  {
   "cell_type": "code",
   "execution_count": null,
   "metadata": {},
   "outputs": [],
   "source": []
  }
 ],
 "metadata": {
  "kernelspec": {
   "display_name": "Python 3 (ipykernel)",
   "language": "python",
   "name": "python3"
  },
  "language_info": {
   "codemirror_mode": {
    "name": "ipython",
    "version": 3
   },
   "file_extension": ".py",
   "mimetype": "text/x-python",
   "name": "python",
   "nbconvert_exporter": "python",
   "pygments_lexer": "ipython3",
   "version": "3.10.6"
  },
  "toc": {
   "base_numbering": 1,
   "nav_menu": {},
   "number_sections": true,
   "sideBar": true,
   "skip_h1_title": false,
   "title_cell": "Table of Contents",
   "title_sidebar": "Contents",
   "toc_cell": false,
   "toc_position": {},
   "toc_section_display": true,
   "toc_window_display": false
  },
  "vscode": {
   "interpreter": {
    "hash": "1f8e0422ce7e4ff236cfdf432ec9665c2ac19a040199a19f4216759b0359e44f"
   }
  }
 },
 "nbformat": 4,
 "nbformat_minor": 2
}
