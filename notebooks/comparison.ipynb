{
 "cells": [
  {
   "cell_type": "code",
   "execution_count": 1,
   "metadata": {},
   "outputs": [
    {
     "name": "stderr",
     "output_type": "stream",
     "text": [
      "2022-12-09 13:29:47.327015: I tensorflow/core/platform/cpu_feature_guard.cc:193] This TensorFlow binary is optimized with oneAPI Deep Neural Network Library (oneDNN) to use the following CPU instructions in performance-critical operations:  AVX2 FMA\n",
      "To enable them in other operations, rebuild TensorFlow with the appropriate compiler flags.\n",
      "2022-12-09 13:29:47.523624: W tensorflow/compiler/xla/stream_executor/platform/default/dso_loader.cc:64] Could not load dynamic library 'libcudart.so.11.0'; dlerror: libcudart.so.11.0: cannot open shared object file: No such file or directory\n",
      "2022-12-09 13:29:47.523660: I tensorflow/compiler/xla/stream_executor/cuda/cudart_stub.cc:29] Ignore above cudart dlerror if you do not have a GPU set up on your machine.\n",
      "2022-12-09 13:29:48.760195: W tensorflow/compiler/xla/stream_executor/platform/default/dso_loader.cc:64] Could not load dynamic library 'libnvinfer.so.7'; dlerror: libnvinfer.so.7: cannot open shared object file: No such file or directory\n",
      "2022-12-09 13:29:48.760358: W tensorflow/compiler/xla/stream_executor/platform/default/dso_loader.cc:64] Could not load dynamic library 'libnvinfer_plugin.so.7'; dlerror: libnvinfer_plugin.so.7: cannot open shared object file: No such file or directory\n",
      "2022-12-09 13:29:48.760374: W tensorflow/compiler/tf2tensorrt/utils/py_utils.cc:38] TF-TRT Warning: Cannot dlopen some TensorRT libraries. If you would like to use Nvidia GPU with TensorRT, please make sure the missing libraries mentioned above are installed properly.\n"
     ]
    }
   ],
   "source": [
    "from wfa.ml_logic.model import predict_new_images \n",
    "from wfa.utils.image_viz import plot_classified_images\n",
    "from wfa.utils.get_new_images import get_new_image, split_tiles\n",
    "from wfa.ml_logic import registry"
   ]
  },
  {
   "cell_type": "code",
   "execution_count": 2,
   "metadata": {},
   "outputs": [
    {
     "name": "stdout",
     "output_type": "stream",
     "text": [
      "\u001b[34m\n",
      "Load model Production stage from mlflow...\u001b[0m\n"
     ]
    },
    {
     "name": "stderr",
     "output_type": "stream",
     "text": [
      "2022-12-09 13:29:54.688210: W tensorflow/compiler/xla/stream_executor/platform/default/dso_loader.cc:64] Could not load dynamic library 'libcuda.so.1'; dlerror: libcuda.so.1: cannot open shared object file: No such file or directory\n",
      "2022-12-09 13:29:54.688264: W tensorflow/compiler/xla/stream_executor/cuda/cuda_driver.cc:265] failed call to cuInit: UNKNOWN ERROR (303)\n",
      "2022-12-09 13:29:54.688293: I tensorflow/compiler/xla/stream_executor/cuda/cuda_diagnostics.cc:156] kernel driver does not appear to be running on this host (schneider-1091-luis-roberto-sant-anna-henriques): /proc/driver/nvidia/version does not exist\n",
      "2022-12-09 13:29:54.688584: I tensorflow/core/platform/cpu_feature_guard.cc:193] This TensorFlow binary is optimized with oneAPI Deep Neural Network Library (oneDNN) to use the following CPU instructions in performance-critical operations:  AVX2 FMA\n",
      "To enable them in other operations, rebuild TensorFlow with the appropriate compiler flags.\n"
     ]
    },
    {
     "name": "stdout",
     "output_type": "stream",
     "text": [
      "4/4 [==============================] - 0s 24ms/step\n",
      "4/4 [==============================] - 0s 23ms/step\n"
     ]
    }
   ],
   "source": [
    "adr = '45.2252929,5.6858077'\n",
    "year1 = '2018' \n",
    "year2 = '2020'\n",
    "\n",
    "new_img1 = get_new_image(adr, year1)\n",
    "new_img2 = get_new_image(adr, year2)\n",
    "\n",
    "X_test1 = split_tiles(new_img1)\n",
    "X_test2 = split_tiles(new_img2)\n",
    "\n",
    "import os\n",
    "from dotenv import load_dotenv\n",
    "load_dotenv()\n",
    "\n",
    "new_model = registry.load_model()\n",
    "\n",
    "cat_pred1 = predict_new_images(new_model, X_test1);\n",
    "cat_pred2 = predict_new_images(new_model, X_test2);"
   ]
  },
  {
   "cell_type": "code",
   "execution_count": 3,
   "metadata": {},
   "outputs": [],
   "source": [
    "import pandas as pd\n",
    "import numpy as np\n",
    "\n",
    "def summary(y_pred_class1:np.ndarray,\n",
    "            y_pred_class2:np.ndarray):\n",
    "    if y_pred_class1.shape != cat_pred2.shape:\n",
    "         print('Images have different shapes, please check!')\n",
    "    else:\n",
    "        changes = pd.DataFrame(y_pred_class1 - y_pred_class2).applymap(lambda x: 1 if x != 0 else 0).to_numpy()\n",
    "        \n",
    "        inv_classes = {\n",
    "            0:'AnnualCrop',\n",
    "            1:'Forest', \n",
    "            2:'HerbaceousVegetation',\n",
    "            3:'Highway',\n",
    "            4:'Industrial',\n",
    "            5:'Pasture',\n",
    "            6:'PermanentCrop',\n",
    "            7:'Residential',\n",
    "            8:'River',\n",
    "            9:'SeaLake',\n",
    "            }\n",
    "        pred1 = pd.DataFrame(y_pred_class1.reshape((y_pred_class1.shape[0]*y_pred_class1.shape[1]))).value_counts(normalize=True).rename_axis('cat_ID').reset_index(name='year1')\n",
    "        pred2 = pd.DataFrame(y_pred_class2.reshape((y_pred_class2.shape[0]*y_pred_class2.shape[1]))).value_counts(normalize=True).rename_axis('cat_ID').reset_index(name='year2')\n",
    "\n",
    "        summary = pred1.merge(pred2, how='outer')\n",
    "        summary.fillna(0, inplace=True)\n",
    "        summary['diff'] = summary['year2']-summary['year1']\n",
    "        summary['cat_name'] = summary['cat_ID'].apply(lambda x: inv_classes[x])\n",
    "        summary = summary[['cat_ID', 'cat_name', 'year1', 'year2', 'diff']].set_index('cat_ID')\n",
    "        summary['year1'] = pd.Series([\"{0:.0f}%\".format(val * 100) for val in summary['year1']], index = summary.index)\n",
    "        summary['year2'] = pd.Series([\"{0:.0f}%\".format(val * 100) for val in summary['year2']], index = summary.index)\n",
    "        summary['diff'] = pd.Series([\"{0:.0f}%\".format(val * 100) for val in summary['diff']], index = summary.index)\n",
    "        return changes, summary"
   ]
  },
  {
   "cell_type": "code",
   "execution_count": 4,
   "metadata": {},
   "outputs": [],
   "source": [
    "changes, summary = summary(cat_pred1, cat_pred2)"
   ]
  },
  {
   "cell_type": "code",
   "execution_count": 5,
   "metadata": {},
   "outputs": [
    {
     "data": {
      "text/plain": [
       "array([[0, 0, 1, 1, 0, 0, 1, 1, 1, 0],\n",
       "       [0, 0, 1, 1, 0, 1, 1, 1, 1, 0],\n",
       "       [1, 1, 0, 0, 0, 1, 1, 1, 0, 0],\n",
       "       [1, 1, 0, 1, 0, 0, 0, 0, 1, 1],\n",
       "       [1, 0, 0, 1, 0, 0, 0, 1, 1, 0],\n",
       "       [1, 1, 0, 1, 1, 1, 0, 0, 0, 0],\n",
       "       [0, 0, 0, 0, 1, 1, 0, 0, 1, 0],\n",
       "       [1, 0, 1, 1, 1, 0, 1, 0, 1, 0],\n",
       "       [0, 1, 0, 0, 0, 0, 1, 1, 0, 0],\n",
       "       [1, 0, 1, 0, 0, 0, 0, 0, 1, 1]])"
      ]
     },
     "execution_count": 5,
     "metadata": {},
     "output_type": "execute_result"
    }
   ],
   "source": [
    "changes"
   ]
  },
  {
   "cell_type": "code",
   "execution_count": 6,
   "metadata": {},
   "outputs": [
    {
     "data": {
      "text/html": [
       "<div>\n",
       "<style scoped>\n",
       "    .dataframe tbody tr th:only-of-type {\n",
       "        vertical-align: middle;\n",
       "    }\n",
       "\n",
       "    .dataframe tbody tr th {\n",
       "        vertical-align: top;\n",
       "    }\n",
       "\n",
       "    .dataframe thead th {\n",
       "        text-align: right;\n",
       "    }\n",
       "</style>\n",
       "<table border=\"1\" class=\"dataframe\">\n",
       "  <thead>\n",
       "    <tr style=\"text-align: right;\">\n",
       "      <th></th>\n",
       "      <th>cat_name</th>\n",
       "      <th>year1</th>\n",
       "      <th>year2</th>\n",
       "      <th>diff</th>\n",
       "    </tr>\n",
       "    <tr>\n",
       "      <th>cat_ID</th>\n",
       "      <th></th>\n",
       "      <th></th>\n",
       "      <th></th>\n",
       "      <th></th>\n",
       "    </tr>\n",
       "  </thead>\n",
       "  <tbody>\n",
       "    <tr>\n",
       "      <th>6</th>\n",
       "      <td>PermanentCrop</td>\n",
       "      <td>41%</td>\n",
       "      <td>22%</td>\n",
       "      <td>-19%</td>\n",
       "    </tr>\n",
       "    <tr>\n",
       "      <th>2</th>\n",
       "      <td>HerbaceousVegetation</td>\n",
       "      <td>15%</td>\n",
       "      <td>17%</td>\n",
       "      <td>2%</td>\n",
       "    </tr>\n",
       "    <tr>\n",
       "      <th>5</th>\n",
       "      <td>Pasture</td>\n",
       "      <td>13%</td>\n",
       "      <td>11%</td>\n",
       "      <td>-2%</td>\n",
       "    </tr>\n",
       "    <tr>\n",
       "      <th>9</th>\n",
       "      <td>SeaLake</td>\n",
       "      <td>11%</td>\n",
       "      <td>14%</td>\n",
       "      <td>3%</td>\n",
       "    </tr>\n",
       "    <tr>\n",
       "      <th>0</th>\n",
       "      <td>AnnualCrop</td>\n",
       "      <td>7%</td>\n",
       "      <td>23%</td>\n",
       "      <td>16%</td>\n",
       "    </tr>\n",
       "    <tr>\n",
       "      <th>1</th>\n",
       "      <td>Forest</td>\n",
       "      <td>5%</td>\n",
       "      <td>2%</td>\n",
       "      <td>-3%</td>\n",
       "    </tr>\n",
       "    <tr>\n",
       "      <th>4</th>\n",
       "      <td>Industrial</td>\n",
       "      <td>5%</td>\n",
       "      <td>9%</td>\n",
       "      <td>4%</td>\n",
       "    </tr>\n",
       "    <tr>\n",
       "      <th>8</th>\n",
       "      <td>River</td>\n",
       "      <td>2%</td>\n",
       "      <td>0%</td>\n",
       "      <td>-2%</td>\n",
       "    </tr>\n",
       "    <tr>\n",
       "      <th>3</th>\n",
       "      <td>Highway</td>\n",
       "      <td>1%</td>\n",
       "      <td>2%</td>\n",
       "      <td>1%</td>\n",
       "    </tr>\n",
       "  </tbody>\n",
       "</table>\n",
       "</div>"
      ],
      "text/plain": [
       "                    cat_name year1 year2  diff\n",
       "cat_ID                                        \n",
       "6              PermanentCrop   41%   22%  -19%\n",
       "2       HerbaceousVegetation   15%   17%    2%\n",
       "5                    Pasture   13%   11%   -2%\n",
       "9                    SeaLake   11%   14%    3%\n",
       "0                 AnnualCrop    7%   23%   16%\n",
       "1                     Forest    5%    2%   -3%\n",
       "4                 Industrial    5%    9%    4%\n",
       "8                      River    2%    0%   -2%\n",
       "3                    Highway    1%    2%    1%"
      ]
     },
     "execution_count": 6,
     "metadata": {},
     "output_type": "execute_result"
    }
   ],
   "source": [
    "summary"
   ]
  },
  {
   "cell_type": "code",
   "execution_count": null,
   "metadata": {},
   "outputs": [],
   "source": []
  }
 ],
 "metadata": {
  "kernelspec": {
   "display_name": "Python 3 (ipykernel)",
   "language": "python",
   "name": "python3"
  },
  "language_info": {
   "codemirror_mode": {
    "name": "ipython",
    "version": 3
   },
   "file_extension": ".py",
   "mimetype": "text/x-python",
   "name": "python",
   "nbconvert_exporter": "python",
   "pygments_lexer": "ipython3",
   "version": "3.10.6"
  },
  "toc": {
   "base_numbering": 1,
   "nav_menu": {},
   "number_sections": true,
   "sideBar": true,
   "skip_h1_title": false,
   "title_cell": "Table of Contents",
   "title_sidebar": "Contents",
   "toc_cell": false,
   "toc_position": {},
   "toc_section_display": true,
   "toc_window_display": false
  },
  "vscode": {
   "interpreter": {
    "hash": "738d13d3274b8ac4bf7fe76db9a7813633c03fb55c37cc6df959b306befa210a"
   }
  }
 },
 "nbformat": 4,
 "nbformat_minor": 2
}
